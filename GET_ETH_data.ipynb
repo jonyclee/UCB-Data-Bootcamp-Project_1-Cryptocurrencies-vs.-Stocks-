{
 "cells": [
  {
   "cell_type": "code",
   "execution_count": 1,
   "metadata": {
    "collapsed": true
   },
   "outputs": [],
   "source": [
    "import requests as req\n",
    "from datetime import datetime, date, timedelta\n",
    "import pandas as pd"
   ]
  },
  {
   "cell_type": "code",
   "execution_count": 2,
   "metadata": {
    "collapsed": false
   },
   "outputs": [],
   "source": [
    "# Use Get Request to Pull Data from Cryptocompare to get Prices of Ethereum\n",
    "\n",
    "# Create two dates\n",
    "d1 = date(2016,1,1)\n",
    "d2 = date.today()\n",
    "\n",
    "# Finding difference between dates\n",
    "delta = d2-d1\n",
    "\n",
    "# Creating two empty lists to store gregorian dates and unix time date to store days inbetween\n",
    "timeframe = []\n",
    "newtimeframe = []\n",
    "\n",
    "# Stores all days, inclusive, in gregorian format, into timeframe\n",
    "for i in range(delta.days + 1):\n",
    "    timeframe.append(str(d1 + timedelta(days=i)))\n",
    "\n",
    "# Converts all dates in unix time\n",
    "for x in range(len(timeframe)):\n",
    "    newtimeframe.append(datetime.strptime(timeframe[x],\"%Y-%m-%d\").timestamp())\n",
    "\n",
    "# Empty list for storing all bitcoin prices\n",
    "ethprices = []\n",
    "\n",
    "# Get request for Ethereum for those dates, then stores the USD into btcprices list.\n",
    "for x in range(len(timeframe)):\n",
    "    url = 'https://min-api.cryptocompare.com/data/pricehistorical?fsym=ETH&tsyms=%s,%s&ts=%s&extraParams=your_app_name' % ('BTC','USD',newtimeframe[x])\n",
    "    get_url = req.get(url).json()\n",
    "    ethprices.append(get_url['ETH']['USD'])"
   ]
  },
  {
   "cell_type": "code",
   "execution_count": 3,
   "metadata": {
    "collapsed": false
   },
   "outputs": [
    {
     "data": {
      "text/html": [
       "<div>\n",
       "<table border=\"1\" class=\"dataframe\">\n",
       "  <thead>\n",
       "    <tr style=\"text-align: right;\">\n",
       "      <th></th>\n",
       "      <th>Price_ETH</th>\n",
       "    </tr>\n",
       "    <tr>\n",
       "      <th>Date</th>\n",
       "      <th></th>\n",
       "    </tr>\n",
       "  </thead>\n",
       "  <tbody>\n",
       "    <tr>\n",
       "      <th>2016-01-01</th>\n",
       "      <td>0.9340</td>\n",
       "    </tr>\n",
       "    <tr>\n",
       "      <th>2016-01-02</th>\n",
       "      <td>0.9316</td>\n",
       "    </tr>\n",
       "    <tr>\n",
       "      <th>2016-01-03</th>\n",
       "      <td>0.9693</td>\n",
       "    </tr>\n",
       "    <tr>\n",
       "      <th>2016-01-04</th>\n",
       "      <td>0.9518</td>\n",
       "    </tr>\n",
       "    <tr>\n",
       "      <th>2016-01-05</th>\n",
       "      <td>0.9502</td>\n",
       "    </tr>\n",
       "  </tbody>\n",
       "</table>\n",
       "</div>"
      ],
      "text/plain": [
       "            Price_ETH\n",
       "Date                 \n",
       "2016-01-01     0.9340\n",
       "2016-01-02     0.9316\n",
       "2016-01-03     0.9693\n",
       "2016-01-04     0.9518\n",
       "2016-01-05     0.9502"
      ]
     },
     "execution_count": 3,
     "metadata": {},
     "output_type": "execute_result"
    }
   ],
   "source": [
    "# Use Get Request info and turn it into dataframe\n",
    "ETH_df = pd.DataFrame({'Date': timeframe,\n",
    "                      'Price_ETH': ethprices})\n",
    "ETH_df = ETH_df.set_index('Date')\n",
    "ETH_df.head()"
   ]
  },
  {
   "cell_type": "code",
   "execution_count": 4,
   "metadata": {
    "collapsed": true
   },
   "outputs": [],
   "source": [
    "# Convert dataframe to csv\n",
    "ETH_df.to_csv('ETH.csv')"
   ]
  },
  {
   "cell_type": "code",
   "execution_count": null,
   "metadata": {
    "collapsed": true
   },
   "outputs": [],
   "source": []
  }
 ],
 "metadata": {
  "kernelspec": {
   "display_name": "Python 3",
   "language": "python",
   "name": "python3"
  },
  "language_info": {
   "codemirror_mode": {
    "name": "ipython",
    "version": 3
   },
   "file_extension": ".py",
   "mimetype": "text/x-python",
   "name": "python",
   "nbconvert_exporter": "python",
   "pygments_lexer": "ipython3",
   "version": "3.6.0"
  }
 },
 "nbformat": 4,
 "nbformat_minor": 2
}
